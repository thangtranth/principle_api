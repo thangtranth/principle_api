{
 "cells": [
  {
   "cell_type": "code",
   "execution_count": 13,
   "id": "circular-college",
   "metadata": {},
   "outputs": [],
   "source": [
    "f = open('Principles.txt', 'r')"
   ]
  },
  {
   "cell_type": "code",
   "execution_count": 14,
   "id": "accredited-subject",
   "metadata": {},
   "outputs": [],
   "source": [
    "docs = f.read()"
   ]
  },
  {
   "cell_type": "code",
   "execution_count": 18,
   "id": "talented-initial",
   "metadata": {},
   "outputs": [],
   "source": [
    "paragraph_list = docs.split('\\n\\n')"
   ]
  },
  {
   "cell_type": "code",
   "execution_count": 23,
   "id": "existing-watershed",
   "metadata": {},
   "outputs": [
    {
     "name": "stdout",
     "output_type": "stream",
     "text": [
      "1 Embrace Reality and Deal with It\n",
      "----\n",
      "There is nothing more important than understanding how reality works and how to deal with it. The state of mind you bring to this process makes all the difference. I have found it helpful to think of my life as if it were a game in which each problem I face is a puzzle I need to solve. By solving the puzzle, I get a gem in the form of a principle that helps me avoid the same sort of problem in the future. Collecting these gems continually improves my decision making, so I am able to ascend to higher and higher levels of play in which the game gets harder and the stakes become ever greater.\n",
      "----\n",
      "All sorts of emotions come to me while I am playing and those emotions can either help me or hurt me. If I can reconcile my emotions with my logic and only act when they are aligned, I make better decisions.\n",
      "----\n",
      "Learning how reality works, visualizing the things I want to create, and then building them out is incredibly exciting to me. Stretching for big goals puts me in the position of failing and needing to learn and come up with new inventions in order to move forward. I find it exhilarating being caught up in the feedback loop of rapid learning—just as a surfer loves riding a wave, even though it sometimes leads to crashes. Don’t get me wrong, I’m still scared of the crashes and I still find them painful. But I keep that pain in perspective, knowing that I will get through these setbacks and that most of my learning will come from reflecting on them.14 Just as long-distance runners push through pain to experience the pleasure of “runner’s high,” I have largely gotten past the pain of my mistake making and instead enjoy the pleasure that comes with learning from it. I believe that with practice you can change your habits and experience the same “mistake learner’s high.”\n",
      "----\n",
      "\n",
      "1.1 Be a hyperrealist.\n",
      "----\n",
      "Understanding, accepting, and working with reality is both practical and beautiful. I have become so much of a hyperrealist that I’ve learned to appreciate the beauty of all realities, even harsh ones, and have come to despise impractical idealism.\n",
      "----\n",
      "Don’t get me wrong: I believe in making dreams happen. To me, there’s nothing better in life than doing that. The pursuit of dreams is what gives life its flavor. My point is that people who create great things aren’t idle dreamers: They are totally grounded in reality. Being hyperrealistic will help you choose your dreams wisely and then achieve them. I have found the following to be almost always true:\n",
      "----\n"
     ]
    }
   ],
   "source": [
    "for i in range(10):\n",
    "    if len(paragraph_list[i]) > 0: \n",
    "        print(paragraph_list[i])\n",
    "        print('----')\n",
    "    else:\n",
    "        pass"
   ]
  },
  {
   "cell_type": "code",
   "execution_count": 25,
   "id": "empty-feeding",
   "metadata": {},
   "outputs": [
    {
     "data": {
      "text/plain": [
       "'There is nothing more important than understanding how reality works and how to deal with it. The state of mind you bring to this process makes all the difference. I have found it helpful to think of my life as if it were a game in which each problem I face is a puzzle I need to solve. By solving the puzzle, I get a gem in the form of a principle that helps me avoid the same sort of problem in the future. Collecting these gems continually improves my decision making, so I am able to ascend to higher and higher levels of play in which the game gets harder and the stakes become ever greater.'"
      ]
     },
     "execution_count": 25,
     "metadata": {},
     "output_type": "execute_result"
    }
   ],
   "source": [
    "paragraph_list[4]"
   ]
  },
  {
   "cell_type": "code",
   "execution_count": null,
   "id": "measured-circular",
   "metadata": {},
   "outputs": [],
   "source": []
  },
  {
   "cell_type": "code",
   "execution_count": 26,
   "id": "developed-korean",
   "metadata": {},
   "outputs": [
    {
     "ename": "ModuleNotFoundError",
     "evalue": "No module named 'nltk'",
     "output_type": "error",
     "traceback": [
      "\u001b[0;31m---------------------------------------------------------------------------\u001b[0m",
      "\u001b[0;31mModuleNotFoundError\u001b[0m                       Traceback (most recent call last)",
      "\u001b[0;32m<ipython-input-26-1d2184025e54>\u001b[0m in \u001b[0;36m<module>\u001b[0;34m\u001b[0m\n\u001b[0;32m----> 1\u001b[0;31m \u001b[0;32mimport\u001b[0m \u001b[0mnltk\u001b[0m\u001b[0;34m\u001b[0m\u001b[0;34m\u001b[0m\u001b[0m\n\u001b[0m",
      "\u001b[0;31mModuleNotFoundError\u001b[0m: No module named 'nltk'"
     ]
    }
   ],
   "source": [
    "import nltk"
   ]
  },
  {
   "cell_type": "code",
   "execution_count": null,
   "id": "aboriginal-local",
   "metadata": {},
   "outputs": [],
   "source": []
  }
 ],
 "metadata": {
  "kernelspec": {
   "display_name": "Python 3",
   "language": "python",
   "name": "python3"
  },
  "language_info": {
   "codemirror_mode": {
    "name": "ipython",
    "version": 3
   },
   "file_extension": ".py",
   "mimetype": "text/x-python",
   "name": "python",
   "nbconvert_exporter": "python",
   "pygments_lexer": "ipython3",
   "version": "3.7.3"
  }
 },
 "nbformat": 4,
 "nbformat_minor": 5
}
